{
 "cells": [
  {
   "cell_type": "code",
   "execution_count": null,
   "id": "e60b12df-4d38-4a74-880c-7e66154ff475",
   "metadata": {},
   "outputs": [],
   "source": [
    "import os\n",
    "import sys\n",
    "from pathlib import Path\n",
    "\n",
    "import requests\n",
    "import pandas as pd\n",
    "from dotenv import load_dotenv"
   ]
  },
  {
   "cell_type": "code",
   "execution_count": null,
   "id": "ab9a142e-2458-49db-94f6-42fe12b89f9a",
   "metadata": {},
   "outputs": [],
   "source": [
    "# 1. \"jpy-datareader\" を見つけるまで上へたどる\n",
    "project_root = Path.cwd()\n",
    "while project_root.name != \"jpy-datareader\" and project_root != project_root.parent:\n",
    "    project_root = project_root.parent\n",
    "\n",
    "if project_root.name != \"jpy-datareader\":\n",
    "    raise RuntimeError(\"プロジェクトルート 'jpy-datareader' が見つかりませんでした\")\n",
    "\n",
    "# 2. そのディレクトリを sys.path に追加\n",
    "if str(project_root) not in sys.path:\n",
    "    sys.path.append(str(project_root))\n",
    "\n",
    "# 3. モジュールをインポート\n",
    "from jpy_datareader.estat import StatsListReader"
   ]
  },
  {
   "cell_type": "code",
   "execution_count": null,
   "id": "55e9f202-8ecf-4e7a-9c93-0c0c02ba5c26",
   "metadata": {},
   "outputs": [],
   "source": [
    "load_dotenv()\n",
    "appId = os.getenv(\"ESTAT_APP_ID\")"
   ]
  },
  {
   "cell_type": "code",
   "execution_count": null,
   "id": "8990b194-3190-4b9b-9b35-d7764418770d",
   "metadata": {},
   "outputs": [],
   "source": [
    "statslist = StatsListReader(api_key=appId, limit=1)\n",
    "statslist_json = statslist.read_json()\n",
    "statslist_json"
   ]
  },
  {
   "cell_type": "code",
   "execution_count": null,
   "id": "69cf207d-aa23-4be4-81e8-46522fe1ae98",
   "metadata": {},
   "outputs": [],
   "source": [
    "statslist = StatsListReader(api_key=appId, statsCode=\"00200521\", surveyYears=2020, openYears=202312, explanationGetFlg=\"N\")\n",
    "statslist_json = statslist.read_json()\n",
    "statslist_json"
   ]
  },
  {
   "cell_type": "code",
   "execution_count": null,
   "id": "6bc84447-4de1-4ab8-a0d4-b7bcd9ca890c",
   "metadata": {},
   "outputs": [],
   "source": [
    "statslist = StatsListReader(api_key=appId, statsCode=\"00200521\", surveyYears=2020, openYears=202312, explanationGetFlg=\"N\")\n",
    "statslist_df = statslist.read()\n",
    "print(str(statslist_df.to_csv()))"
   ]
  },
  {
   "cell_type": "code",
   "execution_count": null,
   "id": "e16a433e-817b-4629-87d5-2cd791f7af29",
   "metadata": {},
   "outputs": [],
   "source": []
  }
 ],
 "metadata": {
  "kernelspec": {
   "display_name": "Python 3 (ipykernel)",
   "language": "python",
   "name": "python3"
  },
  "language_info": {
   "codemirror_mode": {
    "name": "ipython",
    "version": 3
   },
   "file_extension": ".py",
   "mimetype": "text/x-python",
   "name": "python",
   "nbconvert_exporter": "python",
   "pygments_lexer": "ipython3",
   "version": "3.12.10"
  }
 },
 "nbformat": 4,
 "nbformat_minor": 5
}
