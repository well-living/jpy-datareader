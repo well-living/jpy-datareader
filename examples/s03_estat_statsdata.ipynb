{
 "cells": [
  {
   "cell_type": "code",
   "execution_count": null,
   "id": "3ed8ea88-e53d-4c62-bf9e-250fe1f10cdf",
   "metadata": {},
   "outputs": [],
   "source": [
    "import os\n",
    "import requests\n",
    "import pandas as pd\n",
    "from dotenv import load_dotenv"
   ]
  },
  {
   "cell_type": "code",
   "execution_count": null,
   "id": "716e4b4b-5ffd-4353-91b5-f8bddb50a87b",
   "metadata": {},
   "outputs": [],
   "source": [
    "from pathlib import Path\n",
    "import sys\n",
    "\n",
    "# 1. \"jpy-datareader\" を見つけるまで上へたどる\n",
    "project_root = Path.cwd()\n",
    "while project_root.name != \"jpy-datareader\" and project_root != project_root.parent:\n",
    "    project_root = project_root.parent\n",
    "\n",
    "if project_root.name != \"jpy-datareader\":\n",
    "    raise RuntimeError(\"プロジェクトルート 'jpy-datareader' が見つかりませんでした\")\n",
    "\n",
    "# 2. そのディレクトリを sys.path に追加\n",
    "if str(project_root) not in sys.path:\n",
    "    sys.path.append(str(project_root))\n",
    "\n",
    "# 3. モジュールをインポート\n",
    "from jpy_datareader.estat import StatsDataReader, colname_to_japanese\n"
   ]
  },
  {
   "cell_type": "code",
   "execution_count": null,
   "id": "69b154be-5d25-4de1-b713-5b594a5cb926",
   "metadata": {},
   "outputs": [],
   "source": [
    "load_dotenv()\n",
    "appId = os.getenv(\"ESTAT_APP_ID\")"
   ]
  },
  {
   "cell_type": "code",
   "execution_count": null,
   "id": "8df5c071-da9c-4850-b765-f3e60c36bcbf",
   "metadata": {},
   "outputs": [],
   "source": [
    "statsDataId = \"0002070010\""
   ]
  },
  {
   "cell_type": "code",
   "execution_count": null,
   "id": "3170607f-3247-4b5d-9e89-3c747138a7e2",
   "metadata": {},
   "outputs": [],
   "source": [
    "statsdata = StatsDataReader(api_key=appId, statsDataId=statsDataId, limit=1000)"
   ]
  },
  {
   "cell_type": "code",
   "execution_count": null,
   "id": "76ed3a55-906a-4f41-92a8-2b0df76d9355",
   "metadata": {
    "scrolled": true
   },
   "outputs": [],
   "source": [
    "statsdata.get_metadata()\n",
    "statsdata.metainfo"
   ]
  },
  {
   "cell_type": "code",
   "execution_count": null,
   "id": "bb03457a-6dba-4864-995a-e709dbfb2440",
   "metadata": {},
   "outputs": [],
   "source": [
    "statsdata._get_total_number()"
   ]
  },
  {
   "cell_type": "code",
   "execution_count": null,
   "id": "2270a4df-50ff-46df-9391-64ccc85ff3c6",
   "metadata": {},
   "outputs": [],
   "source": [
    "statsdata.OVERALL_TOTAL_NUMBER"
   ]
  },
  {
   "cell_type": "code",
   "execution_count": null,
   "id": "4e16ba32-8304-4eaf-8b2b-93d8ba5b7083",
   "metadata": {},
   "outputs": [],
   "source": [
    "json_data = statsdata.read_json()"
   ]
  },
  {
   "cell_type": "code",
   "execution_count": null,
   "id": "7562b64b-3448-45b2-9f59-63ef48e753f8",
   "metadata": {},
   "outputs": [],
   "source": [
    "statsdata._store_params_in_attrs(json_data)"
   ]
  },
  {
   "cell_type": "code",
   "execution_count": null,
   "id": "170fee1c-de97-4b0c-8f2c-7511d306301a",
   "metadata": {},
   "outputs": [],
   "source": [
    "statsdata.TITLE"
   ]
  },
  {
   "cell_type": "code",
   "execution_count": null,
   "id": "7e04920a-a2e7-4aab-924d-ef5466eac07a",
   "metadata": {},
   "outputs": [],
   "source": [
    "value_df = statsdata._statsjson_to_dataframe(json_data)\n",
    "value_df.shape"
   ]
  },
  {
   "cell_type": "code",
   "execution_count": null,
   "id": "1b14c671-05c3-4ba0-8ab1-faeacf5f72ee",
   "metadata": {},
   "outputs": [],
   "source": []
  },
  {
   "cell_type": "code",
   "execution_count": null,
   "id": "0aff4b8b-62ae-4b58-b1cf-9797e6220565",
   "metadata": {},
   "outputs": [],
   "source": [
    "value_df.columns"
   ]
  },
  {
   "cell_type": "code",
   "execution_count": null,
   "id": "7070b500-2389-4642-bc97-9d8f417f00dd",
   "metadata": {},
   "outputs": [],
   "source": [
    "value_df['value'].value_counts().head()"
   ]
  },
  {
   "cell_type": "code",
   "execution_count": null,
   "id": "7c56c8f7-186b-446c-841f-a1007e147a16",
   "metadata": {},
   "outputs": [],
   "source": []
  },
  {
   "cell_type": "code",
   "execution_count": null,
   "id": "8e6da3e6-ca9d-4fce-bd32-80cde1503fe1",
   "metadata": {},
   "outputs": [],
   "source": [
    "value_df2 = statsdata._handle_missing_values(value_df, json_data)"
   ]
  },
  {
   "cell_type": "code",
   "execution_count": null,
   "id": "52a1d775-3e18-4f6f-8133-7f98b73ba2c6",
   "metadata": {},
   "outputs": [],
   "source": [
    "value_df2['value'].value_counts(dropna=False).head()"
   ]
  },
  {
   "cell_type": "code",
   "execution_count": null,
   "id": "a4986078-4315-4e0e-b4e9-c606cf5a9e21",
   "metadata": {},
   "outputs": [],
   "source": [
    "value_df2.head()"
   ]
  },
  {
   "cell_type": "code",
   "execution_count": null,
   "id": "cf3b1d22-5445-4b59-a5b4-fbd2f4dd6635",
   "metadata": {},
   "outputs": [],
   "source": [
    "value_df3 = statsdata._merge_class_metadata(value_df2, json_data)"
   ]
  },
  {
   "cell_type": "code",
   "execution_count": null,
   "id": "a9993af6-ca43-410e-be4c-ac86d87f961a",
   "metadata": {},
   "outputs": [],
   "source": [
    "value_df3.columns"
   ]
  },
  {
   "cell_type": "code",
   "execution_count": null,
   "id": "45a7557e-5980-4fb9-bbb3-82cce8b0d3b5",
   "metadata": {},
   "outputs": [],
   "source": [
    "value_df3.head()"
   ]
  },
  {
   "cell_type": "code",
   "execution_count": null,
   "id": "837e9fae-dfd2-4212-bbd6-ceaec306ad61",
   "metadata": {},
   "outputs": [],
   "source": [
    "value_df4 = statsdata._apply_colname_transformations(value_df3, json_data)"
   ]
  },
  {
   "cell_type": "code",
   "execution_count": null,
   "id": "b9cf294e-090d-4a36-b1ae-f4f0f9fb90aa",
   "metadata": {},
   "outputs": [],
   "source": [
    "value_df4.columns"
   ]
  },
  {
   "cell_type": "code",
   "execution_count": null,
   "id": "c72b08e5-b12a-44e7-af14-36eca28e3a68",
   "metadata": {},
   "outputs": [],
   "source": [
    "value_df4.head()"
   ]
  },
  {
   "cell_type": "code",
   "execution_count": null,
   "id": "adf48102-3e2b-4059-b82a-06777b2fa2ef",
   "metadata": {},
   "outputs": [],
   "source": [
    "statsdata.tab_colname"
   ]
  },
  {
   "cell_type": "code",
   "execution_count": null,
   "id": "16b9b913-2cdd-47f2-ac88-d2f825b2afb2",
   "metadata": {},
   "outputs": [],
   "source": [
    "statsdata.CLASS_NAME_MAPPING"
   ]
  },
  {
   "cell_type": "code",
   "execution_count": null,
   "id": "d6f77dae-222e-4485-aa27-256f2280f3fa",
   "metadata": {},
   "outputs": [],
   "source": [
    "value_df5 = statsdata._split_by_units(value_df5)"
   ]
  },
  {
   "cell_type": "code",
   "execution_count": null,
   "id": "218121d7-85ae-482e-aa6f-11dc60366ea3",
   "metadata": {},
   "outputs": [],
   "source": [
    "value_df5.keys()"
   ]
  },
  {
   "cell_type": "code",
   "execution_count": null,
   "id": "f0eb6c41-f1ff-4784-853f-440ecd741cd7",
   "metadata": {},
   "outputs": [],
   "source": []
  },
  {
   "cell_type": "code",
   "execution_count": null,
   "id": "9fe397af-a601-419c-8bda-47dbf2068ead",
   "metadata": {},
   "outputs": [],
   "source": [
    "df = statsdata._process_single_response(statsdata.read_json())"
   ]
  },
  {
   "cell_type": "code",
   "execution_count": null,
   "id": "f57e9354-fc96-4849-9428-ae0fee24e8d4",
   "metadata": {},
   "outputs": [],
   "source": [
    "df.head()"
   ]
  },
  {
   "cell_type": "code",
   "execution_count": null,
   "id": "1255ab8a-bb0a-4e3e-8db3-d52e32bc417a",
   "metadata": {},
   "outputs": [],
   "source": [
    "statsdata2 = StatsDataReader(api_key=appId, statsDataId=statsDataId, limit=100500)\n",
    "df = statsdata2.read()\n",
    "df.shape"
   ]
  },
  {
   "cell_type": "code",
   "execution_count": null,
   "id": "d5a596ab-e3f3-4a30-a5cf-0e840e94b1f6",
   "metadata": {},
   "outputs": [],
   "source": [
    "df.columns"
   ]
  },
  {
   "cell_type": "code",
   "execution_count": null,
   "id": "b580afd2-140c-43c9-9a6a-bfd991921767",
   "metadata": {},
   "outputs": [],
   "source": [
    "print(str(df.iloc[100000:100010, :].to_csv()))"
   ]
  },
  {
   "cell_type": "code",
   "execution_count": null,
   "id": "e8da6a66-8a01-4cf9-9d90-4f5741985b91",
   "metadata": {},
   "outputs": [],
   "source": [
    "duplicates = df[df.duplicated()]\n",
    "duplicates"
   ]
  },
  {
   "cell_type": "code",
   "execution_count": null,
   "id": "daea79fd-dd98-45b6-b6f5-597d2f7f373d",
   "metadata": {},
   "outputs": [],
   "source": []
  }
 ],
 "metadata": {
  "kernelspec": {
   "display_name": "Python 3 (ipykernel)",
   "language": "python",
   "name": "python3"
  },
  "language_info": {
   "codemirror_mode": {
    "name": "ipython",
    "version": 3
   },
   "file_extension": ".py",
   "mimetype": "text/x-python",
   "name": "python",
   "nbconvert_exporter": "python",
   "pygments_lexer": "ipython3",
   "version": "3.12.10"
  }
 },
 "nbformat": 4,
 "nbformat_minor": 5
}
