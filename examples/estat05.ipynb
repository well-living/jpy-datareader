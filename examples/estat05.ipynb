{
 "cells": [
  {
   "cell_type": "markdown",
   "id": "83809f15-b8d5-473c-8edc-3fb62d2f4f93",
   "metadata": {},
   "source": []
  },
  {
   "cell_type": "code",
   "execution_count": null,
   "id": "ddca6378-da42-4b95-abd2-ead85e736a26",
   "metadata": {},
   "outputs": [],
   "source": [
    "import os\n",
    "import sys\n",
    "from pathlib import Path\n",
    "\n",
    "import requests\n",
    "import pandas as pd\n",
    "from dotenv import load_dotenv\n",
    "\n",
    "# 日本語表示の設定\n",
    "pd.set_option('display.max_columns', None)\n",
    "pd.set_option('display.width', None)\n",
    "pd.set_option('display.max_colwidth', 50)"
   ]
  },
  {
   "cell_type": "code",
   "execution_count": null,
   "id": "92a0b2b7-962d-4efe-bab4-ded29330750e",
   "metadata": {},
   "outputs": [],
   "source": [
    "from jpy_datareader.estat import StatsListReader, StatsDataReader"
   ]
  },
  {
   "cell_type": "code",
   "execution_count": null,
   "id": "8c5b6da7-3f16-4e0d-aabb-bf029a461765",
   "metadata": {},
   "outputs": [],
   "source": [
    "# APIキーの読み込み\n",
    "load_dotenv()\n",
    "appId = os.getenv(\"ESTAT_APP_ID\")"
   ]
  },
  {
   "cell_type": "code",
   "execution_count": null,
   "id": "60c07bdf-c640-4a73-85cb-8f22122e8825",
   "metadata": {},
   "outputs": [],
   "source": [
    "updatedDate = \"20250801-20250815\"\n",
    "statslist = StatsListReader(api_key=appId, limit=5, updatedDate=updatedDate)\n",
    "statslist_df = statslist.read()\n",
    "statslist_df.columns"
   ]
  },
  {
   "cell_type": "code",
   "execution_count": null,
   "id": "ccd8414d-f476-46bc-87b1-98a3ad9e8dfd",
   "metadata": {},
   "outputs": [],
   "source": []
  },
  {
   "cell_type": "code",
   "execution_count": null,
   "id": "cb4aa971-a2ff-463c-884b-4c51fa609088",
   "metadata": {},
   "outputs": [],
   "source": []
  }
 ],
 "metadata": {
  "kernelspec": {
   "display_name": "Python 3 (ipykernel)",
   "language": "python",
   "name": "python3"
  },
  "language_info": {
   "codemirror_mode": {
    "name": "ipython",
    "version": 3
   },
   "file_extension": ".py",
   "mimetype": "text/x-python",
   "name": "python",
   "nbconvert_exporter": "python",
   "pygments_lexer": "ipython3",
   "version": "3.12.10"
  }
 },
 "nbformat": 4,
 "nbformat_minor": 5
}
