{
 "cells": [
  {
   "cell_type": "code",
   "execution_count": null,
   "id": "a001270a-4546-458e-afc8-678494e8a8dd",
   "metadata": {},
   "outputs": [],
   "source": [
    "import os\n",
    "import requests\n",
    "import pandas as pd\n",
    "from dotenv import load_dotenv"
   ]
  },
  {
   "cell_type": "code",
   "execution_count": null,
   "id": "79c2e7bd-31cb-495b-a4d4-bc76316c2c57",
   "metadata": {},
   "outputs": [],
   "source": [
    "from pathlib import Path\n",
    "import sys\n",
    "\n",
    "# 1. \"jpy-datareader\" を見つけるまで上へたどる\n",
    "project_root = Path.cwd()\n",
    "while project_root.name != \"jpy-datareader\" and project_root != project_root.parent:\n",
    "    project_root = project_root.parent\n",
    "\n",
    "if project_root.name != \"jpy-datareader\":\n",
    "    raise RuntimeError(\"プロジェクトルート 'jpy-datareader' が見つかりませんでした\")\n",
    "\n",
    "# 2. そのディレクトリを sys.path に追加\n",
    "if str(project_root) not in sys.path:\n",
    "    sys.path.append(str(project_root))\n",
    "\n",
    "# 3. モジュールをインポート\n",
    "from jpy_datareader.estat import StatsDataReader"
   ]
  },
  {
   "cell_type": "markdown",
   "id": "6e3012c3-a5b7-4780-ad23-9bddd179f86d",
   "metadata": {},
   "source": [
    "学校種別の学習費\n",
    "https://www.e-stat.go.jp/stat-search/file-download?statInfId=000040233659&fileKind=0\n",
    "https://www.mext.go.jp/b_menu/toukei/chousa03/gakushuuhi/sonota/1399388_00001.htm?utm_source=chatgpt.com\n",
    "\n",
    "level1,level2,level3,level4,一時的\n",
    "学習費総額,学校教育費,学校教育費,入学金・入園料,1\n",
    "学習費総額,学校教育費,学校教育費,入学時に納付した施設整備費等,1\n",
    "学習費総額,学校教育費,学校教育費,入学検定料,1\n",
    "学習費総額,学校教育費,学校教育費,授業料,\n",
    "学習費総額,学校教育費,学校教育費,施設整備費等,\n",
    "学習費総額,学校教育費,学校教育費,修学旅行費,\n",
    "学習費総額,学校教育費,学校教育費,校外学習費,\n",
    "学習費総額,学校教育費,学校教育費,学級・児童会・生徒会費,\n",
    "学習費総額,学校教育費,学校教育費,その他の学校納付金,\n",
    "学習費総額,学校教育費,学校教育費,PTA会費,\n",
    "学習費総額,学校教育費,学校教育費,後援会費,\n",
    "学習費総額,学校教育費,学校教育費,寄附金,\n",
    "学習費総額,学校教育費,学校教育費,教科書費・教科書以外の図書費,\n",
    "学習費総額,学校教育費,学校教育費,学用品・実験実習材料費,\n",
    "学習費総額,学校教育費,学校教育費,教科外活動費,\n",
    "学習費総額,学校教育費,学校教育費,通学費,\n",
    "学習費総額,学校教育費,学校教育費,制服,\n",
    "学習費総額,学校教育費,学校教育費,通学用品費,\n",
    "学習費総額,学校教育費,学校教育費,その他学校教育費,\n",
    "学習費総額,学校給食費,学校給食費,学校給食費,\n",
    "学習費総額,学校外活動費,補助学習費,家庭内学習費,\n",
    "学習費総額,学校外活動費,補助学習費,通信教育・家庭教師費,\n",
    "学習費総額,学校外活動費,補助学習費,学習塾費,\n",
    "学習費総額,学校外活動費,補助学習費,その他補助学習費,\n",
    "学習費総額,学校外活動費,その他の学校外活動費,体験活動・地域活動,\n",
    "学習費総額,学校外活動費,その他の学校外活動費,芸術文化活動,\n",
    "学習費総額,学校外活動費,その他の学校外活動費,スポーツ・レクリエーション活動,\n",
    "学習費総額,学校外活動費,その他の学校外活動費,国際交流体験活動,\n",
    "学習費総額,学校外活動費,その他の学校外活動費,教養・その他,\n"
   ]
  },
  {
   "cell_type": "code",
   "execution_count": null,
   "id": "9ccec503-ed26-4d4a-a69a-8d14f759d0c7",
   "metadata": {},
   "outputs": [],
   "source": [
    "xls = pd.read_excel(\"https://www.e-stat.go.jp/stat-search/file-download?statInfId=000040233659&fileKind=0\", skiprows=9, header=[0, 1], index_col=0, na_values=[\"…\", \"－\"])\n",
    "xls"
   ]
  },
  {
   "cell_type": "code",
   "execution_count": null,
   "id": "b3657887-41c7-4044-b174-4449dcf0cbe7",
   "metadata": {},
   "outputs": [],
   "source": []
  }
 ],
 "metadata": {
  "kernelspec": {
   "display_name": "Python 3 (ipykernel)",
   "language": "python",
   "name": "python3"
  },
  "language_info": {
   "codemirror_mode": {
    "name": "ipython",
    "version": 3
   },
   "file_extension": ".py",
   "mimetype": "text/x-python",
   "name": "python",
   "nbconvert_exporter": "python",
   "pygments_lexer": "ipython3",
   "version": "3.12.10"
  }
 },
 "nbformat": 4,
 "nbformat_minor": 5
}
