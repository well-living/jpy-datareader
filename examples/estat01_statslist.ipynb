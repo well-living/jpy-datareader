{
 "cells": [
  {
   "cell_type": "markdown",
   "id": "58aa21aa",
   "metadata": {},
   "source": [
    "# StatsListReader - e-Stat統計表情報取得ガイド\n",
    "\n",
    "このノートブックでは、jpy-datareaderライブラリの`StatsListReader`を使用して、日本の政府統計e-Statから統計表の一覧情報を取得します。\n",
    "\n",
    "## 概要\n",
    "\n",
    "`StatsListReader`は、e-Stat APIの「統計表情報取得」機能を使用して、以下の情報を取得できます：\n",
    "- 統計表の基本情報（タイトル、説明、統計表ID等）\n",
    "- 調査年月、公開年月による絞り込み\n",
    "- 統計分野や政府統計コードによる検索\n",
    "- キーワード検索\n",
    "\n",
    "## 事前準備\n",
    "\n",
    "1. **e-Stat APIキーの取得**\n",
    "   - [e-Stat API](https://www.e-stat.go.jp/api/)でアプリケーションIDを取得\n",
    "   - 環境変数として設定するか、直接指定\n",
    "\n",
    "2. **必要なライブラリ**\n",
    "   - `jpy-datareader`\n",
    "   - `pandas`\n",
    "   - `python-dotenv` (環境変数管理用)\n"
   ]
  },
  {
   "cell_type": "markdown",
   "id": "23404eea",
   "metadata": {},
   "source": [
    "## 1. ライブラリのインポートと設定"
   ]
  },
  {
   "cell_type": "code",
   "execution_count": null,
   "id": "2f594457",
   "metadata": {},
   "outputs": [],
   "source": [
    "import os\n",
    "import sys\n",
    "from pathlib import Path\n",
    "\n",
    "import requests\n",
    "import pandas as pd\n",
    "from dotenv import load_dotenv\n",
    "\n",
    "# 日本語表示の設定\n",
    "pd.set_option('display.max_columns', None)\n",
    "pd.set_option('display.width', None)\n",
    "pd.set_option('display.max_colwidth', 50)"
   ]
  },
  {
   "cell_type": "markdown",
   "id": "ec70619e",
   "metadata": {},
   "source": [
    "## 2. StatsListReaderインポート"
   ]
  },
  {
   "cell_type": "code",
   "execution_count": null,
   "id": "bf402c4e-693c-48db-8f5b-cde61efd7bc3",
   "metadata": {},
   "outputs": [],
   "source": [
    "from jpy_datareader.estat import StatsListReader"
   ]
  },
  {
   "cell_type": "markdown",
   "id": "9be6bddc",
   "metadata": {},
   "source": [
    "## 3. APIキーの読み込み"
   ]
  },
  {
   "cell_type": "code",
   "execution_count": null,
   "id": "55e9f202-8ecf-4e7a-9c93-0c0c02ba5c26",
   "metadata": {},
   "outputs": [],
   "source": [
    "# APIキーの読み込み\n",
    "load_dotenv()\n",
    "appId = os.getenv(\"ESTAT_APP_ID\")\n",
    "\n",
    "if not appId:\n",
    "    print(\"⚠️ APIキーが設定されていません\")\n",
    "    print(\"以下の環境変数のいずれかを設定してください:\")\n",
    "    print(\"- ESTAT_APP_ID\")\n",
    "    print(\"- E_STAT_APPLICATION_ID\")\n",
    "    print(\"- ESTAT_APPLICATION_ID\")\n",
    "    # 直接設定する場合（テスト用）\n",
    "    # appId = \"あなたのAPIキーをここに入力\"\n",
    "else:\n",
    "    print(f\"✅ APIキーが正常に読み込まれました: {appId[:10]}...\")"
   ]
  },
  {
   "cell_type": "markdown",
   "id": "b26b2530",
   "metadata": {},
   "source": [
    "## 基本的な使用方法\n",
    "\n",
    "### 4. 最新の統計表を1件取得"
   ]
  },
  {
   "cell_type": "code",
   "execution_count": null,
   "id": "8990b194-3190-4b9b-9b35-d7764418770d",
   "metadata": {},
   "outputs": [],
   "source": [
    "print(\"=== 最新の統計表情報（1件）===\")\n",
    "statslist = StatsListReader(api_key=appId, limit=1)\n",
    "df_latest = statslist.read()\n",
    "\n",
    "print(f\"取得件数: {len(df_latest)}件\")\n",
    "print(f\"カラム数: {len(df_latest.columns)}\")\n",
    "print(\"\\n主要なカラム:\")\n",
    "for col in df_latest.columns[:10]:  # 最初の10カラムを表示\n",
    "    print(f\"- {col}\")\n",
    "\n",
    "if len(df_latest) > 0:\n",
    "    print(\"\\n=== 最新統計表の情報 ===\")\n",
    "    print(f\"統計表ID: {df_latest.iloc[0].get('id', 'N/A')}\")\n",
    "    print(f\"タイトル: {df_latest.iloc[0].get('STAT_NAME', 'N/A')}\")\n",
    "    print(f\"表題: {df_latest.iloc[0].get('TITLE', 'N/A')}\")\n",
    "    print(f\"調査年月: {df_latest.iloc[0].get('SURVEY_DATE', 'N/A')}\")"
   ]
  },
  {
   "cell_type": "markdown",
   "id": "22a49c78",
   "metadata": {},
   "source": [
    "### 5. JSON形式での生データ取得\n",
    "\n",
    "APIの生レスポンスを確認したい場合は`read_json()`を使用します。"
   ]
  },
  {
   "cell_type": "code",
   "execution_count": null,
   "id": "69cf207d-aa23-4be4-81e8-46522fe1ae98",
   "metadata": {},
   "outputs": [],
   "source": [
    "# JSON形式で生データを取得\n",
    "print(\"=== JSON形式での統計表情報取得 ===\")\n",
    "statslist = StatsListReader(api_key=appId, limit=1)\n",
    "json_data = statslist.read_json()\n",
    "\n",
    "# APIレスポンスの構造を確認\n",
    "print(\"APIレスポンスの主要キー:\")\n",
    "for key in json_data.keys():\n",
    "    print(f\"- {key}\")\n",
    "\n",
    "# ステータス情報を確認\n",
    "result_info = json_data.get('GET_STATS_LIST', {}).get('RESULT', {})\n",
    "print(f\"\\nAPI実行結果:\")\n",
    "print(f\"- ステータス: {result_info.get('STATUS')}\")\n",
    "print(f\"- 実行日時: {result_info.get('DATE')}\")\n",
    "\n",
    "# リーダーオブジェクトに格納されたメタデータを確認\n",
    "print(f\"\\nメタデータ情報:\")\n",
    "print(f\"- 総件数: {statslist.NUMBER}\")\n",
    "print(f\"- 取得範囲: {statslist.FROM_NUMBER} - {statslist.TO_NUMBER}\")\n",
    "print(f\"- 次のキー: {statslist.NEXT_KEY}\")"
   ]
  },
  {
   "cell_type": "markdown",
   "id": "1d00157c",
   "metadata": {},
   "source": [
    "## 実践的な検索例\n",
    "\n",
    "### 6. 国勢調査の統計表を検索"
   ]
  },
  {
   "cell_type": "code",
   "execution_count": null,
   "id": "6bc84447-4de1-4ab8-a0d4-b7bcd9ca890c",
   "metadata": {},
   "outputs": [],
   "source": [
    "# 国勢調査（政府統計コード: 00200521）の2020年データを検索\n",
    "print(\"=== 国勢調査 2020年の統計表検索 ===\")\n",
    "statslist = StatsListReader(\n",
    "    api_key=appId,\n",
    "    statsCode=\"00200521\",  # 国勢調査\n",
    "    surveyYears=2020,      # 2020年調査\n",
    "    explanationGetFlg=\"N\", # 説明データは不要\n",
    "    limit=10               # 最大10件\n",
    ")\n",
    "df_census = statslist.read()\n",
    "\n",
    "print(f\"取得件数: {len(df_census)}件\")\n",
    "print(f\"総データ件数: {statslist.NUMBER}件\")\n",
    "\n",
    "if len(df_census) > 0:\n",
    "    print(\"\\n=== 取得した統計表一覧 ===\")\n",
    "    for i, row in df_census.head().iterrows():\n",
    "        print(f\"{i+1}. {row.get('TITLE', 'タイトルなし')}\")\n",
    "        print(f\"   ID: {row.get('id', 'N/A')}\")\n",
    "        print(f\"   調査年月: {row.get('SURVEY_DATE', 'N/A')}\")\n",
    "        print()"
   ]
  },
  {
   "cell_type": "markdown",
   "id": "7522f2a8",
   "metadata": {},
   "source": [
    "### 7. キーワード検索の活用"
   ]
  },
  {
   "cell_type": "code",
   "execution_count": null,
   "id": "e16a433e-817b-4629-87d5-2cd791f7af29",
   "metadata": {},
   "outputs": [],
   "source": [
    "# \"人口\" AND \"東京\"で検索\n",
    "print(\"=== キーワード検索: '人口' ===\")\n",
    "statslist = StatsListReader(\n",
    "    api_key=appId,\n",
    "    searchWord=\"人口\",\n",
    "    limit=5\n",
    ")\n",
    "df_keyword = statslist.read()\n",
    "\n",
    "print(f\"取得件数: {len(df_keyword)}件\")\n",
    "\n",
    "if len(df_keyword) > 0:\n",
    "    print(\"\\n=== 検索結果 ===\")\n",
    "    for i, row in df_keyword.iterrows():\n",
    "        title = row.get('TITLE', 'タイトルなし')\n",
    "        stat_name = row.get('STAT_NAME', 'N/A')\n",
    "        print(f\"{i+1}. {title}\")\n",
    "        print(f\"   統計名: {stat_name}\")\n",
    "        print(f\"   調査年月: {row.get('SURVEY_DATE', 'N/A')}\")\n",
    "        print()"
   ]
  },
  {
   "cell_type": "markdown",
   "id": "638c426a",
   "metadata": {},
   "source": [
    "### 8. 統計分野での絞り込み"
   ]
  },
  {
   "cell_type": "code",
   "execution_count": null,
   "id": "d1fd08fa",
   "metadata": {},
   "outputs": [],
   "source": [
    "# 統計分野「02」（人口・世帯）で検索\n",
    "print(\"=== 統計分野検索: 人口・世帯（分野コード:02）===\")\n",
    "statslist = StatsListReader(\n",
    "    api_key=appId,\n",
    "    statsField=\"02\",  # 人口・世帯分野\n",
    "    surveyYears=\"202001-202312\",  # 2020/1-2023/12範囲\n",
    "    limit=8\n",
    ")\n",
    "df_field = statslist.read()\n",
    "\n",
    "print(f\"取得件数: {len(df_field)}件\")\n",
    "\n",
    "if len(df_field) > 0:\n",
    "    print(\"\\n=== 人口・世帯分野の統計表 ===\")\n",
    "    # 統計名でグループ化して表示\n",
    "    grouped = df_field.groupby('STAT_NAME')\n",
    "    for stat_name, group in grouped:\n",
    "        print(f\"\\n📊 {stat_name} ({len(group)}件)\")\n",
    "        for _, row in group.head(3).iterrows():  # 各統計から最大3件表示\n",
    "            print(f\"  - {row.get('TITLE', 'タイトルなし')}\")\n",
    "            print(f\"    調査年月: {row.get('SURVEY_DATE', 'N/A')}\")"
   ]
  },
  {
   "cell_type": "markdown",
   "id": "70fba82c",
   "metadata": {},
   "source": [
    "## 高度な使用例\n",
    "\n",
    "### 9. 更新日付での検索と詳細分析"
   ]
  },
  {
   "cell_type": "code",
   "execution_count": null,
   "id": "d8691e3b",
   "metadata": {},
   "outputs": [],
   "source": [
    "# 最近更新された統計表を検索\n",
    "print(\"=== 最近更新された統計表（2024年1月以降）===\")\n",
    "statslist = StatsListReader(\n",
    "    api_key=appId,\n",
    "    updatedDate=\"20240101-20241231\",  # 2024/1/1-2024/12/31\n",
    "    searchKind=1,  # 統計情報\n",
    "    collectArea=1, # 全国データ\n",
    "    limit=15\n",
    ")\n",
    "df_recent = statslist.read()\n",
    "\n",
    "print(f\"取得件数: {len(df_recent)}件\")\n",
    "\n",
    "if len(df_recent) > 0:\n",
    "    print(\"\\n=== データ分析 ===\")\n",
    "    \n",
    "    # 統計分野の分布\n",
    "    if 'STATISTICS_NAME' in df_recent.columns:\n",
    "        stats_dist = df_recent['STATISTICS_NAME'].value_counts().head()\n",
    "        print(\"\\n📈 統計名別件数（上位5位）:\")\n",
    "        for stat_name, count in stats_dist.items():\n",
    "            print(f\"  {count}件: {stat_name}\")\n",
    "    \n",
    "    # 調査年月の分布\n",
    "    if 'SURVEY_DATE' in df_recent.columns:\n",
    "        survey_years = df_recent['SURVEY_DATE'].str[:4].value_counts().sort_index()\n",
    "        print(\"\\n📅 調査年別件数:\")\n",
    "        for year, count in survey_years.items():\n",
    "            print(f\"  {year}年: {count}件\")\n",
    "    \n",
    "    print(\"\\n=== 最新の統計表（詳細情報）===\")\n",
    "    latest = df_recent.iloc[0]\n",
    "    print(f\"統計表ID: {latest.get('id')}\")\n",
    "    print(f\"統計名: {latest.get('STAT_NAME')}\")\n",
    "    print(f\"表題: {latest.get('TITLE')}\")\n",
    "    print(f\"調査年月: {latest.get('SURVEY_DATE')}\")\n",
    "    print(f\"公開年月: {latest.get('OPEN_DATE')}\")\n",
    "    print(f\"更新日時: {latest.get('UPDATED_DATE')}\")\n",
    "    \n",
    "    # データの概要を表示\n",
    "    if 'MAIN_CATEGORY' in df_recent.columns:\n",
    "        print(f\"主分類: {latest.get('MAIN_CATEGORY')}\")\n",
    "    if 'SUB_CATEGORY' in df_recent.columns:\n",
    "        print(f\"副分類: {latest.get('SUB_CATEGORY')}\")"
   ]
  },
  {
   "cell_type": "markdown",
   "id": "cf445ee5",
   "metadata": {},
   "source": [
    "### 10. ページネーション（大量データの取得）"
   ]
  },
  {
   "cell_type": "code",
   "execution_count": null,
   "id": "aa2c25d9",
   "metadata": {},
   "outputs": [],
   "source": [
    "# 大量データを複数回に分けて取得する例\n",
    "print(\"=== ページネーション処理の例 ===\")\n",
    "\n",
    "all_data = []\n",
    "start_position = None\n",
    "page_count = 0\n",
    "max_pages = 3  # 最大3ページまで取得\n",
    "\n",
    "while page_count < max_pages:\n",
    "    page_count += 1\n",
    "    print(f\"\\n--- ページ {page_count} を取得中 ---\")\n",
    "    \n",
    "    # StatsListReaderを作成\n",
    "    params = {\n",
    "        'api_key': appId,\n",
    "        'statsField': '02',  # 人口・世帯\n",
    "        'limit': 5,  # 1ページあたり5件\n",
    "    }\n",
    "    \n",
    "    if start_position:\n",
    "        params['startPosition'] = start_position\n",
    "    \n",
    "    statslist = StatsListReader(**params)\n",
    "    df_page = statslist.read()\n",
    "    \n",
    "    if len(df_page) == 0:\n",
    "        print(\"データなし - 処理終了\")\n",
    "        break\n",
    "    \n",
    "    all_data.append(df_page)\n",
    "    print(f\"取得件数: {len(df_page)}件\")\n",
    "    print(f\"範囲: {statslist.FROM_NUMBER} - {statslist.TO_NUMBER}\")\n",
    "    \n",
    "    # 次のページのキーを確認\n",
    "    if statslist.NEXT_KEY:\n",
    "        start_position = statslist.NEXT_KEY\n",
    "        print(f\"次のキー: {start_position}\")\n",
    "    else:\n",
    "        print(\"最後のページに到達\")\n",
    "        break\n",
    "\n",
    "# 全データを結合\n",
    "if all_data:\n",
    "    df_combined = pd.concat(all_data, ignore_index=True)\n",
    "    print(f\"\\n=== 結合結果 ===\")\n",
    "    print(f\"総取得件数: {len(df_combined)}件\")\n",
    "    print(f\"ユニークな統計名: {df_combined['STAT_NAME'].nunique()}種類\")"
   ]
  },
  {
   "cell_type": "markdown",
   "id": "ff92af09",
   "metadata": {},
   "source": [
    "### 11. データの保存とエクスポート"
   ]
  },
  {
   "cell_type": "code",
   "execution_count": null,
   "id": "afc42518",
   "metadata": {},
   "outputs": [],
   "source": [
    "# 検索結果をCSVファイルに保存\n",
    "print(\"=== データのエクスポート ===\")\n",
    "\n",
    "# 人口関連の統計表を取得\n",
    "statslist = StatsListReader(\n",
    "    api_key=appId,\n",
    "    searchWord=\"人口\",\n",
    "    surveyYears=\"202001-202312\",\n",
    "    limit=20\n",
    ")\n",
    "df_export = statslist.read()\n",
    "\n",
    "if len(df_export) > 0:\n",
    "    # 必要な列のみを選択\n",
    "    columns_to_export = [\n",
    "        'id', 'STAT_NAME', 'TITLE', 'SURVEY_DATE', \n",
    "        'OPEN_DATE', 'UPDATED_DATE'\n",
    "    ]\n",
    "    \n",
    "    # 存在するカラムのみを選択\n",
    "    available_columns = [col for col in columns_to_export if col in df_export.columns]\n",
    "    df_selected = df_export[available_columns]\n",
    "    \n",
    "    # CSVファイルとして保存\n",
    "    output_file = \"人口統計表一覧.csv\"\n",
    "    df_selected.to_csv(output_file, index=False, encoding='utf-8-sig')\n",
    "    print(f\"✅ {output_file} に {len(df_selected)}件のデータを保存しました\")\n",
    "    \n",
    "    # ファイル情報を表示\n",
    "    file_size = Path(output_file).stat().st_size / 1024  # KB\n",
    "    print(f\"ファイルサイズ: {file_size:.1f} KB\")\n",
    "    \n",
    "    print(\"\\n=== 保存されたデータの概要 ===\")\n",
    "    print(df_selected.info())\n",
    "else:\n",
    "    print(\"❌ 保存するデータがありません\")"
   ]
  },
  {
   "cell_type": "markdown",
   "id": "320bf05f",
   "metadata": {},
   "source": [
    "### 12. 次のステップ"
   ]
  },
  {
   "cell_type": "code",
   "execution_count": null,
   "id": "ea096840",
   "metadata": {},
   "outputs": [],
   "source": [
    "# 次のステップの例: 特定の統計表IDでデータを取得する場合\n",
    "if len(df_export) > 0:\n",
    "    example_id = df_export.iloc[0]['id']\n",
    "    print(f\"\\n=== 次のステップの例 ===\")\n",
    "    print(f\"統計表ID '{example_id}' のデータを取得する場合:\")\n",
    "    print(f\"\"\"from jpy_datareader.estat import StatsDataReader\n",
    "\n",
    "data_reader = StatsDataReader(\n",
    "    api_key=appId,\n",
    "    statsDataId=\"{example_id}\"\n",
    ")\n",
    "df_data = data_reader.read()\n",
    "print(df_data.head())\"\"\")\n",
    "else:\n",
    "    print(\"\\n次のステップ: 統計表IDを指定してStatsDataReaderでデータを取得\")"
   ]
  },
  {
   "cell_type": "markdown",
   "id": "7cac5007",
   "metadata": {},
   "source": [
    "## まとめ\n",
    "\n",
    "### StatsListReaderの主要な機能\n",
    "\n",
    "1. **基本検索**: `limit`パラメータで件数制限\n",
    "2. **条件検索**: \n",
    "   - `statsCode`: 政府統計コード指定\n",
    "   - `surveyYears`: 調査年月での絞り込み\n",
    "   - `searchWord`: キーワード検索（AND/OR/NOT対応）\n",
    "   - `statsField`: 統計分野での分類\n",
    "3. **ページネーション**: `startPosition`と`NEXT_KEY`による大量データ取得\n",
    "4. **データ形式**: DataFrame（`read()`）とJSON（`read_json()`）\n",
    "\n",
    "### 活用のポイント\n",
    "\n",
    "- **効率的な検索**: 統計コードや分野コードを活用して目的のデータを絞り込む\n",
    "- **バッチ処理**: ページネーション機能で大量データを安全に取得\n",
    "- **データ管理**: 取得したメタデータ（総件数、範囲等）を活用した処理制御\n",
    "\n",
    "### 次のステップ\n",
    "\n",
    "統計表IDが特定できたら、`StatsDataReader`を使用して実際の統計データを取得することができます。"
   ]
  },
  {
   "cell_type": "code",
   "execution_count": null,
   "id": "c0f5f404-4977-489a-b1fd-4bbb0de6dbb9",
   "metadata": {},
   "outputs": [],
   "source": []
  }
 ],
 "metadata": {
  "kernelspec": {
   "display_name": "Python 3 (ipykernel)",
   "language": "python",
   "name": "python3"
  },
  "language_info": {
   "codemirror_mode": {
    "name": "ipython",
    "version": 3
   },
   "file_extension": ".py",
   "mimetype": "text/x-python",
   "name": "python",
   "nbconvert_exporter": "python",
   "pygments_lexer": "ipython3",
   "version": "3.12.10"
  }
 },
 "nbformat": 4,
 "nbformat_minor": 5
}
