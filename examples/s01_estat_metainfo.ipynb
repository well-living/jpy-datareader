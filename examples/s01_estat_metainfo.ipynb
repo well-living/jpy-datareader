{
 "cells": [
  {
   "cell_type": "code",
   "execution_count": null,
   "id": "f513f9dc-ea81-4a62-b70c-e3428be6e0f5",
   "metadata": {},
   "outputs": [],
   "source": [
    "import os\n",
    "import requests\n",
    "import pandas as pd\n",
    "from dotenv import load_dotenv"
   ]
  },
  {
   "cell_type": "code",
   "execution_count": null,
   "id": "3d059a9f-49e1-45eb-976f-840d5568e1af",
   "metadata": {},
   "outputs": [],
   "source": [
    "from pathlib import Path\n",
    "import sys\n",
    "\n",
    "# 1. \"jpy-datareader\" を見つけるまで上へたどる\n",
    "project_root = Path.cwd()\n",
    "while project_root.name != \"jpy-datareader\" and project_root != project_root.parent:\n",
    "    project_root = project_root.parent\n",
    "\n",
    "if project_root.name != \"jpy-datareader\":\n",
    "    raise RuntimeError(\"プロジェクトルート 'jpy-datareader' が見つかりませんでした\")\n",
    "\n",
    "# 2. そのディレクトリを sys.path に追加\n",
    "if str(project_root) not in sys.path:\n",
    "    sys.path.append(str(project_root))\n",
    "\n",
    "# 3. モジュールをインポート\n",
    "from jpy_datareader.estat import MetaInfoReader\n"
   ]
  },
  {
   "cell_type": "code",
   "execution_count": null,
   "id": "2bc05709-f689-4caa-936b-4f7b1776ef53",
   "metadata": {},
   "outputs": [],
   "source": [
    "load_dotenv()\n",
    "appId = os.getenv(\"ESTAT_APP_ID\")"
   ]
  },
  {
   "cell_type": "code",
   "execution_count": null,
   "id": "a9a7ef0b-9ba1-4175-98b8-e0beea89a2f7",
   "metadata": {},
   "outputs": [],
   "source": [
    "statsDataId = \"0002070010\""
   ]
  },
  {
   "cell_type": "code",
   "execution_count": null,
   "id": "32c42d6e-8683-47d3-99d0-de3cc0ab2f3e",
   "metadata": {},
   "outputs": [],
   "source": [
    "metainfo = MetaInfoReader(api_key=appId, statsDataId=statsDataId, has_lv_hierarchy=True)"
   ]
  },
  {
   "cell_type": "code",
   "execution_count": null,
   "id": "0ca4e8d7-ed9b-42f0-8bf5-c576db7149d9",
   "metadata": {},
   "outputs": [],
   "source": [
    "meta_json = metainfo._get_response(metainfo.url, params=metainfo.params).json()"
   ]
  },
  {
   "cell_type": "code",
   "execution_count": null,
   "id": "9fba699c-ac35-4c3d-8366-5725666bd598",
   "metadata": {
    "scrolled": true
   },
   "outputs": [],
   "source": [
    "meta_json"
   ]
  },
  {
   "cell_type": "code",
   "execution_count": null,
   "id": "95a76b27-afc9-4937-87cf-32e2f648b061",
   "metadata": {},
   "outputs": [],
   "source": [
    "metainfo._store_params_in_attrs(meta_json)"
   ]
  },
  {
   "cell_type": "code",
   "execution_count": null,
   "id": "55b7b8a3-5eef-4de8-8aca-028907412c5a",
   "metadata": {},
   "outputs": [],
   "source": [
    "metainfo.TITLE"
   ]
  },
  {
   "cell_type": "code",
   "execution_count": null,
   "id": "e348e3b6-7875-4650-bfed-be4d80634b79",
   "metadata": {},
   "outputs": [],
   "source": [
    "class_obj = meta_json[\"GET_META_INFO\"].get(\"METADATA_INF\", {}).get(\"CLASS_INF\", {}).get(\"CLASS_OBJ\", [])\n",
    "class_obj"
   ]
  },
  {
   "cell_type": "code",
   "execution_count": null,
   "id": "52b37522-deb0-4dce-8265-62e97ad5c4cc",
   "metadata": {},
   "outputs": [],
   "source": [
    "class_obj[1][\"CLASS\"][0].keys()"
   ]
  },
  {
   "cell_type": "code",
   "execution_count": null,
   "id": "ecdfe68e-da24-4d2c-b39c-94c9336d2fce",
   "metadata": {},
   "outputs": [],
   "source": [
    "meta_dfs = metainfo.read_class_objs()"
   ]
  },
  {
   "cell_type": "code",
   "execution_count": null,
   "id": "b46bd54e-bd75-4d3b-a618-5e5bd34567b2",
   "metadata": {},
   "outputs": [],
   "source": [
    "meta_dfs[0]"
   ]
  },
  {
   "cell_type": "code",
   "execution_count": null,
   "id": "1544a769-8742-49fd-8c46-854f9890946e",
   "metadata": {},
   "outputs": [],
   "source": [
    "meta_dfs[1]['meta_dataframe']"
   ]
  },
  {
   "cell_type": "code",
   "execution_count": null,
   "id": "7338693e-031c-4458-b0d7-1d9f3df6ec87",
   "metadata": {},
   "outputs": [],
   "source": [
    "meta_dfs[1]['hierarchy']"
   ]
  },
  {
   "cell_type": "code",
   "execution_count": null,
   "id": "454512f8-9cb6-410c-bb58-8cfab12df469",
   "metadata": {},
   "outputs": [],
   "source": [
    "metainfo.read()"
   ]
  },
  {
   "cell_type": "code",
   "execution_count": null,
   "id": "d09d2416-7630-40eb-8d49-87cb87a7b64f",
   "metadata": {},
   "outputs": [],
   "source": []
  }
 ],
 "metadata": {
  "kernelspec": {
   "display_name": "Python 3 (ipykernel)",
   "language": "python",
   "name": "python3"
  },
  "language_info": {
   "codemirror_mode": {
    "name": "ipython",
    "version": 3
   },
   "file_extension": ".py",
   "mimetype": "text/x-python",
   "name": "python",
   "nbconvert_exporter": "python",
   "pygments_lexer": "ipython3",
   "version": "3.12.10"
  }
 },
 "nbformat": 4,
 "nbformat_minor": 5
}
